{
 "cells": [
  {
   "cell_type": "markdown",
   "id": "9401a48e",
   "metadata": {},
   "source": [
    "## Ensemble trees with each subject"
   ]
  },
  {
   "cell_type": "markdown",
   "id": "f23162c9",
   "metadata": {},
   "source": [
    "\n",
    "In this analysis, we aim to build a model that predicts student grades, but instead of using data from all subjects, we focus on just one subject at a time. This allows us to study that subject in more detail and understand how well we can predict grades specifically for it. Altough we know that this will be just used for comparison as it would be computationally expensive to do this for each subject.\n",
    "\n",
    "To do this, we start by loading the cleaned dataset. Then, we select only the data related to the subject we're interested in, such as \"Fonaments d'enginyeria, Àlgebra\" or etc. This helps us create a more focused and specialized model.\n",
    "\n",
    "Next, we choose the most relevant features for prediction , things like the student's access grade, gender, and parents’ education. These features are used to train an ensemble model made of decision trees, which are known for being strong predictors.\n",
    "\n",
    "Finally, we test how well the model works and use it to predict grades for the most recent academic year (2023/24). This approach gives us clear insights into each subject's predictability and helps compare performance across different models.\n"
   ]
  },
  {
   "cell_type": "code",
   "execution_count": null,
   "id": "482f1524",
   "metadata": {},
   "outputs": [],
   "source": []
  },
  {
   "cell_type": "code",
   "execution_count": null,
   "id": "d24526c0",
   "metadata": {},
   "outputs": [
    {
     "ename": "NameError",
     "evalue": "name 'df_train' is not defined",
     "output_type": "error",
     "traceback": [
      "\u001b[31m---------------------------------------------------------------------------\u001b[39m",
      "\u001b[31mNameError\u001b[39m                                 Traceback (most recent call last)",
      "\u001b[36mCell\u001b[39m\u001b[36m \u001b[39m\u001b[32mIn[1]\u001b[39m\u001b[32m, line 5\u001b[39m\n\u001b[32m      2\u001b[39m chosen_subject = \u001b[33m'\u001b[39m\u001b[33mMatemàtiques\u001b[39m\u001b[33m'\u001b[39m  \u001b[38;5;66;03m# Change as needed\u001b[39;00m\n\u001b[32m      4\u001b[39m \u001b[38;5;66;03m# Step 2: Filter train and prediction datasets\u001b[39;00m\n\u001b[32m----> \u001b[39m\u001b[32m5\u001b[39m df_subject_train = \u001b[43mdf_train\u001b[49m[df_train[\u001b[33m'\u001b[39m\u001b[33massignatura\u001b[39m\u001b[33m'\u001b[39m] == chosen_subject].copy()\n\u001b[32m      6\u001b[39m df_subject_pred = df_pred_target[df_pred_target[\u001b[33m'\u001b[39m\u001b[33massignatura\u001b[39m\u001b[33m'\u001b[39m] == chosen_subject].copy()\n\u001b[32m      8\u001b[39m \u001b[38;5;66;03m# Step 3: Prepare features and target\u001b[39;00m\n",
      "\u001b[31mNameError\u001b[39m: name 'df_train' is not defined"
     ]
    }
   ],
   "source": [
    "# Step 1: Choose a specific subject\n",
    "chosen_subject = 'Fonaments dels computadors'  # Change as needed\n",
    "\n",
    "# Step 2: Filter train and prediction datasets\n",
    "df_subject_train = df_train[df_train['assignatura'] == chosen_subject].copy()\n",
    "df_subject_pred = df_pred_target[df_pred_target['assignatura'] == chosen_subject].copy()\n",
    "\n",
    "# Step 3: Prepare features and target\n",
    "X_train_subj = df_subject_train[best_features]\n",
    "y_train_subj = df_subject_train['nota_assignatura']\n",
    "\n",
    "X_pred_subj = df_subject_pred[best_features]\n",
    "\n",
    "# Step 4: Preprocessing and modeling (re-use existing pipeline)\n",
    "categorical_cols_subj = X_train_subj.select_dtypes(include='object').columns.tolist()\n",
    "\n",
    "preprocessor_subj = ColumnTransformer(\n",
    "    transformers=[('cat', OneHotEncoder(handle_unknown='ignore'), categorical_cols_subj)],\n",
    "    remainder='passthrough'\n",
    ")\n",
    "\n",
    "ensemble_pipeline_subj = Pipeline([\n",
    "    ('preprocessor', preprocessor_subj),\n",
    "    ('regressor', VotingRegressor([\n",
    "        ('rf', RandomForestRegressor(n_estimators=30, max_depth=10, random_state=42)),\n",
    "        ('gb', GradientBoostingRegressor(n_estimators=50, random_state=42)),\n",
    "        ('dt', DecisionTreeRegressor(max_depth=8, random_state=42))\n",
    "    ]))\n",
    "])\n",
    "\n",
    "# Step 5: Fit and Predict\n",
    "ensemble_pipeline_subj.fit(X_train_subj, y_train_subj)\n",
    "df_subject_pred['predicted_nota_assignatura'] = ensemble_pipeline_subj.predict(X_pred_subj)\n",
    "\n",
    "# Optional: View results\n",
    "print(df_subject_pred[['assignatura', 'predicted_nota_assignatura']].head())\n"
   ]
  }
 ],
 "metadata": {
  "kernelspec": {
   "display_name": "synthesis",
   "language": "python",
   "name": "python3"
  },
  "language_info": {
   "codemirror_mode": {
    "name": "ipython",
    "version": 3
   },
   "file_extension": ".py",
   "mimetype": "text/x-python",
   "name": "python",
   "nbconvert_exporter": "python",
   "pygments_lexer": "ipython3",
   "version": "3.12.3"
  }
 },
 "nbformat": 4,
 "nbformat_minor": 5
}
